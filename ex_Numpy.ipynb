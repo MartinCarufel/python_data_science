{
 "cells": [
  {
   "cell_type": "code",
   "execution_count": 2,
   "id": "44d0bc4d",
   "metadata": {},
   "outputs": [],
   "source": [
    "import numpy as np"
   ]
  },
  {
   "cell_type": "code",
   "execution_count": null,
   "id": "f4a59cfc",
   "metadata": {},
   "outputs": [],
   "source": []
  },
  {
   "cell_type": "code",
   "execution_count": 18,
   "id": "11007190",
   "metadata": {},
   "outputs": [],
   "source": [
    "notre_tableau = np.array([x for x in range(1, 20)])"
   ]
  },
  {
   "cell_type": "code",
   "execution_count": 19,
   "id": "e9e77fe4",
   "metadata": {},
   "outputs": [
    {
     "data": {
      "text/plain": [
       "array([ 1,  2,  3,  4,  5,  6,  7,  8,  9, 10, 11, 12, 13, 14, 15, 16, 17,\n",
       "       18, 19])"
      ]
     },
     "execution_count": 19,
     "metadata": {},
     "output_type": "execute_result"
    }
   ],
   "source": [
    "notre_tableau"
   ]
  },
  {
   "cell_type": "code",
   "execution_count": 13,
   "id": "0fe58f65",
   "metadata": {},
   "outputs": [],
   "source": [
    "tableau_2_dim = np.array([[1, 2, 3], [4, 5, 6], [7, 8, 9]])"
   ]
  },
  {
   "cell_type": "code",
   "execution_count": 14,
   "id": "acbbf1e2",
   "metadata": {},
   "outputs": [
    {
     "data": {
      "text/plain": [
       "array([[1, 2, 3],\n",
       "       [4, 5, 6],\n",
       "       [7, 8, 9]])"
      ]
     },
     "execution_count": 14,
     "metadata": {},
     "output_type": "execute_result"
    }
   ],
   "source": [
    "tableau_2_dim"
   ]
  },
  {
   "cell_type": "code",
   "execution_count": 21,
   "id": "41b6e15b",
   "metadata": {},
   "outputs": [],
   "source": [
    "sous_tableau = notre_tableau[0:5]"
   ]
  },
  {
   "cell_type": "code",
   "execution_count": 22,
   "id": "cdc439b0",
   "metadata": {},
   "outputs": [
    {
     "data": {
      "text/plain": [
       "array([1, 2, 3, 4, 5])"
      ]
     },
     "execution_count": 22,
     "metadata": {},
     "output_type": "execute_result"
    }
   ],
   "source": [
    "sous_tableau"
   ]
  },
  {
   "cell_type": "code",
   "execution_count": 27,
   "id": "03b5aa91",
   "metadata": {},
   "outputs": [],
   "source": [
    "new_table = np.array([[x for x in range(0, 10)], [x for x in range(10, 20)], [x for x in range(20, 30)]])"
   ]
  },
  {
   "cell_type": "code",
   "execution_count": 28,
   "id": "fbb24a9a",
   "metadata": {},
   "outputs": [
    {
     "data": {
      "text/plain": [
       "array([[ 0,  1,  2,  3,  4,  5,  6,  7,  8,  9],\n",
       "       [10, 11, 12, 13, 14, 15, 16, 17, 18, 19],\n",
       "       [20, 21, 22, 23, 24, 25, 26, 27, 28, 29]])"
      ]
     },
     "execution_count": 28,
     "metadata": {},
     "output_type": "execute_result"
    }
   ],
   "source": [
    "new_table\n"
   ]
  },
  {
   "cell_type": "code",
   "execution_count": 30,
   "id": "b75d292a",
   "metadata": {},
   "outputs": [
    {
     "data": {
      "text/plain": [
       "11"
      ]
     },
     "execution_count": 30,
     "metadata": {},
     "output_type": "execute_result"
    }
   ],
   "source": [
    "new_table[1, 1]"
   ]
  },
  {
   "cell_type": "code",
   "execution_count": 31,
   "id": "86be72ed",
   "metadata": {},
   "outputs": [],
   "source": [
    "lst = [[x for x in range(0, 10)], [x for x in range(10, 20)], [x for x in range(20, 30)]]"
   ]
  },
  {
   "cell_type": "code",
   "execution_count": 33,
   "id": "9584c2a6",
   "metadata": {},
   "outputs": [
    {
     "data": {
      "text/plain": [
       "[[0, 1, 2, 3, 4, 5, 6, 7, 8, 9],\n",
       " [10, 11, 12, 13, 14, 15, 16, 17, 18, 19],\n",
       " [20, 21, 22, 23, 24, 25, 26, 27, 28, 29]]"
      ]
     },
     "execution_count": 33,
     "metadata": {},
     "output_type": "execute_result"
    }
   ],
   "source": [
    "lst"
   ]
  },
  {
   "cell_type": "code",
   "execution_count": 35,
   "id": "dba50f46",
   "metadata": {},
   "outputs": [
    {
     "data": {
      "text/plain": [
       "14"
      ]
     },
     "execution_count": 35,
     "metadata": {},
     "output_type": "execute_result"
    }
   ],
   "source": [
    "lst[1][4]"
   ]
  },
  {
   "cell_type": "code",
   "execution_count": 36,
   "id": "a52eda54",
   "metadata": {},
   "outputs": [
    {
     "ename": "TypeError",
     "evalue": "list indices must be integers or slices, not tuple",
     "output_type": "error",
     "traceback": [
      "\u001b[1;31m---------------------------------------------------------------------------\u001b[0m",
      "\u001b[1;31mTypeError\u001b[0m                                 Traceback (most recent call last)",
      "\u001b[1;32m<ipython-input-36-db76e1b99219>\u001b[0m in \u001b[0;36m<module>\u001b[1;34m\u001b[0m\n\u001b[1;32m----> 1\u001b[1;33m \u001b[0mlst\u001b[0m\u001b[1;33m[\u001b[0m\u001b[1;36m1\u001b[0m\u001b[1;33m,\u001b[0m \u001b[1;36m4\u001b[0m\u001b[1;33m]\u001b[0m\u001b[1;33m\u001b[0m\u001b[1;33m\u001b[0m\u001b[0m\n\u001b[0m",
      "\u001b[1;31mTypeError\u001b[0m: list indices must be integers or slices, not tuple"
     ]
    }
   ],
   "source": [
    "lst[1, 4]"
   ]
  },
  {
   "cell_type": "code",
   "execution_count": 39,
   "id": "c3e49c32",
   "metadata": {},
   "outputs": [
    {
     "data": {
      "text/plain": [
       "[20, 21, 22, 23, 24, 25, 26, 27, 28, 29]"
      ]
     },
     "execution_count": 39,
     "metadata": {},
     "output_type": "execute_result"
    }
   ],
   "source": [
    "lst[2][:]"
   ]
  },
  {
   "cell_type": "code",
   "execution_count": 44,
   "id": "c369a26b",
   "metadata": {},
   "outputs": [
    {
     "data": {
      "text/plain": [
       "[[0, 1, 2, 3, 4, 5, 6, 7, 8, 9],\n",
       " [10, 11, 12, 13, 14, 15, 16, 17, 18, 19],\n",
       " [20, 21, 22, 23, 24, 25, 26, 27, 28, 29]]"
      ]
     },
     "execution_count": 44,
     "metadata": {},
     "output_type": "execute_result"
    }
   ],
   "source": [
    "lst"
   ]
  },
  {
   "cell_type": "code",
   "execution_count": 51,
   "id": "9e3cae8a",
   "metadata": {},
   "outputs": [
    {
     "data": {
      "text/plain": [
       "[20, 21, 22, 23, 24, 25, 26, 27, 28, 29]"
      ]
     },
     "execution_count": 51,
     "metadata": {},
     "output_type": "execute_result"
    }
   ],
   "source": [
    "lst[:][-1]"
   ]
  },
  {
   "cell_type": "code",
   "execution_count": 54,
   "id": "c6a5ab0f",
   "metadata": {},
   "outputs": [
    {
     "data": {
      "text/plain": [
       "30"
      ]
     },
     "execution_count": 54,
     "metadata": {},
     "output_type": "execute_result"
    }
   ],
   "source": [
    "new_table.size"
   ]
  },
  {
   "cell_type": "code",
   "execution_count": 56,
   "id": "9200b9fe",
   "metadata": {},
   "outputs": [
    {
     "data": {
      "text/plain": [
       "30"
      ]
     },
     "execution_count": 56,
     "metadata": {},
     "output_type": "execute_result"
    }
   ],
   "source": [
    "new_table.size"
   ]
  },
  {
   "cell_type": "code",
   "execution_count": 4,
   "id": "2e3f110f",
   "metadata": {},
   "outputs": [],
   "source": [
    "houses = np.genfromtxt(\"Houses.csv\", delimiter=\",\", dtype=int)"
   ]
  },
  {
   "cell_type": "code",
   "execution_count": 5,
   "id": "e7daf0f5",
   "metadata": {
    "scrolled": true
   },
   "outputs": [
    {
     "data": {
      "text/plain": [
       "array([[212000,   4148,  25264],\n",
       "       [230000,   2501,  11891],\n",
       "       [339000,   4374,  25351],\n",
       "       [289000,   2398,  22215],\n",
       "       [160000,   2536,   9234],\n",
       "       [ 85000,   2368,  13329],\n",
       "       [ 85000,   1264,   8407],\n",
       "       [145000,   1572,  12588],\n",
       "       [164000,   2375,  16204],\n",
       "       [123500,   1161,   9626],\n",
       "       [180000,   1542,   8755],\n",
       "       [159500,   1464,  14636],\n",
       "       [156000,   2240,  21780],\n",
       "       [146500,   1269,  11250],\n",
       "       [101500,    924,   7361],\n",
       "       [109800,    768,  10497],\n",
       "       [182000,   1320,  15768],\n",
       "       [110000,   1845,  12153],\n",
       "       [125000,   1274,  13634],\n",
       "       [ 80000,   1905,  10890]])"
      ]
     },
     "execution_count": 5,
     "metadata": {},
     "output_type": "execute_result"
    }
   ],
   "source": [
    "houses"
   ]
  },
  {
   "cell_type": "code",
   "execution_count": 7,
   "id": "da3444f8",
   "metadata": {},
   "outputs": [],
   "source": [
    "houses[:, 0]=houses[:, 0]*0.86"
   ]
  },
  {
   "cell_type": "code",
   "execution_count": 8,
   "id": "116a6d56",
   "metadata": {},
   "outputs": [
    {
     "data": {
      "text/plain": [
       "array([[182320,   4148,  25264],\n",
       "       [197800,   2501,  11891],\n",
       "       [291540,   4374,  25351],\n",
       "       [248540,   2398,  22215],\n",
       "       [137600,   2536,   9234],\n",
       "       [ 73100,   2368,  13329],\n",
       "       [ 73100,   1264,   8407],\n",
       "       [124700,   1572,  12588],\n",
       "       [141040,   2375,  16204],\n",
       "       [106210,   1161,   9626],\n",
       "       [154800,   1542,   8755],\n",
       "       [137170,   1464,  14636],\n",
       "       [134160,   2240,  21780],\n",
       "       [125990,   1269,  11250],\n",
       "       [ 87290,    924,   7361],\n",
       "       [ 94428,    768,  10497],\n",
       "       [156520,   1320,  15768],\n",
       "       [ 94600,   1845,  12153],\n",
       "       [107500,   1274,  13634],\n",
       "       [ 68800,   1905,  10890]])"
      ]
     },
     "execution_count": 8,
     "metadata": {},
     "output_type": "execute_result"
    }
   ],
   "source": [
    "houses"
   ]
  },
  {
   "cell_type": "code",
   "execution_count": 9,
   "id": "7f6bbc39",
   "metadata": {},
   "outputs": [],
   "source": [
    "houses[:,1]=houses[:,1]*0.09"
   ]
  },
  {
   "cell_type": "code",
   "execution_count": 10,
   "id": "cb23f425",
   "metadata": {},
   "outputs": [
    {
     "data": {
      "text/plain": [
       "array([[182320,    373,  25264],\n",
       "       [197800,    225,  11891],\n",
       "       [291540,    393,  25351],\n",
       "       [248540,    215,  22215],\n",
       "       [137600,    228,   9234],\n",
       "       [ 73100,    213,  13329],\n",
       "       [ 73100,    113,   8407],\n",
       "       [124700,    141,  12588],\n",
       "       [141040,    213,  16204],\n",
       "       [106210,    104,   9626],\n",
       "       [154800,    138,   8755],\n",
       "       [137170,    131,  14636],\n",
       "       [134160,    201,  21780],\n",
       "       [125990,    114,  11250],\n",
       "       [ 87290,     83,   7361],\n",
       "       [ 94428,     69,  10497],\n",
       "       [156520,    118,  15768],\n",
       "       [ 94600,    166,  12153],\n",
       "       [107500,    114,  13634],\n",
       "       [ 68800,    171,  10890]])"
      ]
     },
     "execution_count": 10,
     "metadata": {},
     "output_type": "execute_result"
    }
   ],
   "source": [
    "houses"
   ]
  },
  {
   "cell_type": "code",
   "execution_count": 11,
   "id": "a6f057f5",
   "metadata": {},
   "outputs": [],
   "source": [
    "houses[:,2]=houses[:,2]*0.09"
   ]
  },
  {
   "cell_type": "code",
   "execution_count": 12,
   "id": "5d4e9a94",
   "metadata": {},
   "outputs": [
    {
     "data": {
      "text/plain": [
       "array([[182320,    373,   2273],\n",
       "       [197800,    225,   1070],\n",
       "       [291540,    393,   2281],\n",
       "       [248540,    215,   1999],\n",
       "       [137600,    228,    831],\n",
       "       [ 73100,    213,   1199],\n",
       "       [ 73100,    113,    756],\n",
       "       [124700,    141,   1132],\n",
       "       [141040,    213,   1458],\n",
       "       [106210,    104,    866],\n",
       "       [154800,    138,    787],\n",
       "       [137170,    131,   1317],\n",
       "       [134160,    201,   1960],\n",
       "       [125990,    114,   1012],\n",
       "       [ 87290,     83,    662],\n",
       "       [ 94428,     69,    944],\n",
       "       [156520,    118,   1419],\n",
       "       [ 94600,    166,   1093],\n",
       "       [107500,    114,   1227],\n",
       "       [ 68800,    171,    980]])"
      ]
     },
     "execution_count": 12,
     "metadata": {},
     "output_type": "execute_result"
    }
   ],
   "source": [
    "houses"
   ]
  },
  {
   "cell_type": "code",
   "execution_count": 13,
   "id": "77c1968c",
   "metadata": {},
   "outputs": [
    {
     "data": {
      "text/plain": [
       "array([[182320,    373,   2273],\n",
       "       [197800,    225,   1070],\n",
       "       [291540,    393,   2281],\n",
       "       [248540,    215,   1999],\n",
       "       [ 73100,    213,   1199],\n",
       "       [124700,    141,   1132],\n",
       "       [141040,    213,   1458],\n",
       "       [137170,    131,   1317],\n",
       "       [134160,    201,   1960],\n",
       "       [125990,    114,   1012],\n",
       "       [156520,    118,   1419],\n",
       "       [ 94600,    166,   1093],\n",
       "       [107500,    114,   1227]])"
      ]
     },
     "execution_count": 13,
     "metadata": {},
     "output_type": "execute_result"
    }
   ],
   "source": [
    "houses[houses[:,2]>1000]"
   ]
  },
  {
   "cell_type": "code",
   "execution_count": 14,
   "id": "02c91a90",
   "metadata": {},
   "outputs": [
    {
     "data": {
      "text/plain": [
       "13"
      ]
     },
     "execution_count": 14,
     "metadata": {},
     "output_type": "execute_result"
    }
   ],
   "source": [
    "len(houses[houses[:,2]>1000])"
   ]
  },
  {
   "cell_type": "code",
   "execution_count": 15,
   "id": "fd40815e",
   "metadata": {},
   "outputs": [
    {
     "data": {
      "text/plain": [
       "2737208"
      ]
     },
     "execution_count": 15,
     "metadata": {},
     "output_type": "execute_result"
    }
   ],
   "source": [
    "np.sum(houses[:,0])"
   ]
  },
  {
   "cell_type": "code",
   "execution_count": 16,
   "id": "a6dfac42",
   "metadata": {},
   "outputs": [
    {
     "name": "stdout",
     "output_type": "stream",
     "text": [
      "291540\n"
     ]
    }
   ],
   "source": [
    "prix_max=np.max(houses[:,0])\n",
    "print(prix_max)"
   ]
  },
  {
   "cell_type": "code",
   "execution_count": 19,
   "id": "ae5dba42",
   "metadata": {},
   "outputs": [
    {
     "name": "stdout",
     "output_type": "stream",
     "text": [
      "[393]\n"
     ]
    }
   ],
   "source": [
    "print(houses[houses[:,0]==np.max(houses[:,0])][:,1])"
   ]
  },
  {
   "cell_type": "code",
   "execution_count": 20,
   "id": "c2acc91e",
   "metadata": {},
   "outputs": [],
   "source": [
    "prix, taille_maison, taiale_terrain = np.hsplit(houses, 3)"
   ]
  },
  {
   "cell_type": "code",
   "execution_count": 21,
   "id": "1d30e908",
   "metadata": {},
   "outputs": [
    {
     "data": {
      "text/plain": [
       "array([[182320],\n",
       "       [197800],\n",
       "       [291540],\n",
       "       [248540],\n",
       "       [137600],\n",
       "       [ 73100],\n",
       "       [ 73100],\n",
       "       [124700],\n",
       "       [141040],\n",
       "       [106210],\n",
       "       [154800],\n",
       "       [137170],\n",
       "       [134160],\n",
       "       [125990],\n",
       "       [ 87290],\n",
       "       [ 94428],\n",
       "       [156520],\n",
       "       [ 94600],\n",
       "       [107500],\n",
       "       [ 68800]])"
      ]
     },
     "execution_count": 21,
     "metadata": {},
     "output_type": "execute_result"
    }
   ],
   "source": [
    "prix"
   ]
  },
  {
   "cell_type": "code",
   "execution_count": 22,
   "id": "b4bafbd0",
   "metadata": {},
   "outputs": [
    {
     "data": {
      "text/plain": [
       "array([[373],\n",
       "       [225],\n",
       "       [393],\n",
       "       [215],\n",
       "       [228],\n",
       "       [213],\n",
       "       [113],\n",
       "       [141],\n",
       "       [213],\n",
       "       [104],\n",
       "       [138],\n",
       "       [131],\n",
       "       [201],\n",
       "       [114],\n",
       "       [ 83],\n",
       "       [ 69],\n",
       "       [118],\n",
       "       [166],\n",
       "       [114],\n",
       "       [171]])"
      ]
     },
     "execution_count": 22,
     "metadata": {},
     "output_type": "execute_result"
    }
   ],
   "source": [
    "taille_maison"
   ]
  },
  {
   "cell_type": "code",
   "execution_count": 24,
   "id": "b722824b",
   "metadata": {},
   "outputs": [
    {
     "data": {
      "text/plain": [
       "array([[182320,    373,   2273],\n",
       "       [197800,    225,   1070],\n",
       "       [291540,    393,   2281],\n",
       "       [248540,    215,   1999],\n",
       "       [137600,    228,    831],\n",
       "       [ 73100,    213,   1199],\n",
       "       [ 73100,    113,    756],\n",
       "       [124700,    141,   1132],\n",
       "       [141040,    213,   1458],\n",
       "       [106210,    104,    866],\n",
       "       [154800,    138,    787],\n",
       "       [137170,    131,   1317],\n",
       "       [134160,    201,   1960],\n",
       "       [125990,    114,   1012],\n",
       "       [ 87290,     83,    662],\n",
       "       [ 94428,     69,    944],\n",
       "       [156520,    118,   1419],\n",
       "       [ 94600,    166,   1093],\n",
       "       [107500,    114,   1227],\n",
       "       [ 68800,    171,    980]])"
      ]
     },
     "execution_count": 24,
     "metadata": {},
     "output_type": "execute_result"
    }
   ],
   "source": [
    "np.concatenate([prix, taille_maison, taiale_terrain], axis=1)"
   ]
  },
  {
   "cell_type": "code",
   "execution_count": null,
   "id": "cbb56ff8",
   "metadata": {},
   "outputs": [],
   "source": []
  }
 ],
 "metadata": {
  "kernelspec": {
   "display_name": "Python 3",
   "language": "python",
   "name": "python3"
  },
  "language_info": {
   "codemirror_mode": {
    "name": "ipython",
    "version": 3
   },
   "file_extension": ".py",
   "mimetype": "text/x-python",
   "name": "python",
   "nbconvert_exporter": "python",
   "pygments_lexer": "ipython3",
   "version": "3.8.8"
  }
 },
 "nbformat": 4,
 "nbformat_minor": 5
}
